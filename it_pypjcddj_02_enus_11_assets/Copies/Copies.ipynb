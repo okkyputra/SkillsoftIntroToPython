{
 "cells": [
  {
   "cell_type": "markdown",
   "metadata": {},
   "source": [
    "### Lists"
   ]
  },
  {
   "cell_type": "code",
   "execution_count": 5,
   "metadata": {},
   "outputs": [
    {
     "data": {
      "text/plain": [
       "['apple', 'plum', 'mango', 'guava', 'pear']"
      ]
     },
     "execution_count": 5,
     "metadata": {},
     "output_type": "execute_result"
    }
   ],
   "source": [
    "fruit_list = [\"apple\", \"plum\", \"mango\", \"guava\", \"pear\"]\n",
    "\n",
    "fruit_list"
   ]
  },
  {
   "cell_type": "code",
   "execution_count": 6,
   "metadata": {},
   "outputs": [
    {
     "data": {
      "text/plain": [
       "['apple', 'plum', 'mango', 'guava', 'pear']"
      ]
     },
     "execution_count": 6,
     "metadata": {},
     "output_type": "execute_result"
    }
   ],
   "source": [
    "fruit_copy = fruit_list\n",
    "\n",
    "fruit_copy"
   ]
  },
  {
   "cell_type": "code",
   "execution_count": 7,
   "metadata": {},
   "outputs": [
    {
     "name": "stdout",
     "output_type": "stream",
     "text": [
      "Original: ['apple', 'plum', 'guava', 'pear']\n",
      "Modified: ['apple', 'plum', 'guava', 'pear']\n"
     ]
    }
   ],
   "source": [
    "fruit_list.remove(\"mango\")\n",
    "\n",
    "print(\"Original:\", fruit_list)\n",
    "print(\"Modified:\", fruit_copy)"
   ]
  },
  {
   "cell_type": "code",
   "execution_count": 8,
   "metadata": {},
   "outputs": [
    {
     "data": {
      "text/plain": [
       "['apple', 'plum', 'guava', 'pear']"
      ]
     },
     "execution_count": 8,
     "metadata": {},
     "output_type": "execute_result"
    }
   ],
   "source": [
    "fruit_copy = fruit_list.copy()\n",
    "\n",
    "fruit_copy"
   ]
  },
  {
   "cell_type": "code",
   "execution_count": 9,
   "metadata": {},
   "outputs": [
    {
     "name": "stdout",
     "output_type": "stream",
     "text": [
      "Original: ['pineapple', 'plum', 'guava', 'pear']\n",
      "Modified: ['apple', 'plum', 'guava', 'pear']\n"
     ]
    }
   ],
   "source": [
    "fruit_list[0] = \"pineapple\"\n",
    "\n",
    "print(\"Original:\", fruit_list)\n",
    "print(\"Modified:\", fruit_copy)"
   ]
  },
  {
   "cell_type": "code",
   "execution_count": 2,
   "metadata": {},
   "outputs": [
    {
     "data": {
      "text/plain": [
       "['Henry', ['1349 West Zenith St', 'Massachusetts']]"
      ]
     },
     "execution_count": 2,
     "metadata": {},
     "output_type": "execute_result"
    }
   ],
   "source": [
    "first_person= [\"Henry\", [\"1349 West Zenith St\", \"Massachusetts\"]]\n",
    "\n",
    "first_person"
   ]
  },
  {
   "cell_type": "code",
   "execution_count": 3,
   "metadata": {},
   "outputs": [],
   "source": [
    "second_person = first_person.copy()\n",
    "\n",
    "second_person[0] = \"Mark\""
   ]
  },
  {
   "cell_type": "code",
   "execution_count": 22,
   "metadata": {},
   "outputs": [
    {
     "name": "stdout",
     "output_type": "stream",
     "text": [
      "First person:  ['Henry', ['1349 West Zenith St', 'Massachusetts']]\n",
      "Second person:  ['Mark', ['Brookline Avenue', 'Massachusetts']]\n"
     ]
    }
   ],
   "source": [
    "print(\"First person: \", first_person)\n",
    "\n",
    "print(\"Second person: \", second_person)"
   ]
  },
  {
   "cell_type": "code",
   "execution_count": 5,
   "metadata": {},
   "outputs": [],
   "source": [
    "second_person[1][0] = \"Brookline Avenue\""
   ]
  },
  {
   "cell_type": "code",
   "execution_count": 23,
   "metadata": {},
   "outputs": [
    {
     "name": "stdout",
     "output_type": "stream",
     "text": [
      "First person:  ['Henry', ['1349 West Zenith St', 'Massachusetts']]\n",
      "Second person:  ['Mark', ['Brookline Avenue', 'Massachusetts']]\n"
     ]
    }
   ],
   "source": [
    "print(\"First person: \", first_person)\n",
    "\n",
    "print(\"Second person: \", second_person)"
   ]
  },
  {
   "cell_type": "code",
   "execution_count": 38,
   "metadata": {},
   "outputs": [],
   "source": [
    "from copy import deepcopy"
   ]
  },
  {
   "cell_type": "code",
   "execution_count": 25,
   "metadata": {},
   "outputs": [],
   "source": [
    "first_person = [\"Henry\", [\"1349 West Zenith St\", \"Massachusetts\"]]"
   ]
  },
  {
   "cell_type": "code",
   "execution_count": 26,
   "metadata": {},
   "outputs": [],
   "source": [
    "second_person = deepcopy(first_person)\n",
    "\n",
    "second_person[0] = \"Mark\"\n",
    "second_person[1][0] = \"Brookline Avenue\""
   ]
  },
  {
   "cell_type": "code",
   "execution_count": 27,
   "metadata": {},
   "outputs": [
    {
     "name": "stdout",
     "output_type": "stream",
     "text": [
      "First person:  ['Henry', ['1349 West Zenith St', 'Massachusetts']]\n",
      "Second person:  ['Mark', ['Brookline Avenue', 'Massachusetts']]\n"
     ]
    }
   ],
   "source": [
    "print(\"First person: \", first_person)\n",
    "\n",
    "print(\"Second person: \", second_person)"
   ]
  },
  {
   "cell_type": "markdown",
   "metadata": {},
   "source": [
    "### Tuples\n",
    "\n",
    "Since tuples cannot be modified, copies cannot be edited unless we have a nested mutable complex data type within the tuple"
   ]
  },
  {
   "cell_type": "code",
   "execution_count": 14,
   "metadata": {},
   "outputs": [
    {
     "data": {
      "text/plain": [
       "('Vanilla', ['Chocolate', 'Vanilla'], 'Strawberry', 'Blueberry')"
      ]
     },
     "execution_count": 14,
     "metadata": {},
     "output_type": "execute_result"
    }
   ],
   "source": [
    "ice_cream_tuple = (\"Vanilla\", [\"Chocolate\", \"Vanilla\"], \"Strawberry\", \"Blueberry\")\n",
    "\n",
    "ice_cream_tuple_copy = ice_cream_tuple"
   ]
  },
  {
   "cell_type": "code",
   "execution_count": 29,
   "metadata": {},
   "outputs": [
    {
     "name": "stdout",
     "output_type": "stream",
     "text": [
      "Original:  ('Vanilla', ['Butterscotch', 'Vanilla'], 'Strawberry', 'Blueberry')\n",
      "Modified:  ('Vanilla', ['Butterscotch', 'Vanilla'], 'Strawberry', 'Blueberry')\n"
     ]
    }
   ],
   "source": [
    "print(\"Original: \", ice_cream_tuple)\n",
    "\n",
    "print(\"Modified: \", ice_cream_tuple_copy)"
   ]
  },
  {
   "cell_type": "code",
   "execution_count": 20,
   "metadata": {},
   "outputs": [],
   "source": [
    "ice_cream_tuple_copy[1][0] = \"Butterscotch\""
   ]
  },
  {
   "cell_type": "code",
   "execution_count": 30,
   "metadata": {},
   "outputs": [
    {
     "name": "stdout",
     "output_type": "stream",
     "text": [
      "Original:  ('Vanilla', ['Butterscotch', 'Vanilla'], 'Strawberry', 'Blueberry')\n",
      "Modified:  ('Vanilla', ['Butterscotch', 'Vanilla'], 'Strawberry', 'Blueberry')\n"
     ]
    }
   ],
   "source": [
    "print(\"Original: \", ice_cream_tuple)\n",
    "\n",
    "print(\"Modified: \", ice_cream_tuple_copy)"
   ]
  },
  {
   "cell_type": "code",
   "execution_count": 33,
   "metadata": {},
   "outputs": [
    {
     "data": {
      "text/plain": [
       "('Vanilla', ['Chocolate', 'Vanilla'], 'Strawberry', 'Blueberry')"
      ]
     },
     "execution_count": 33,
     "metadata": {},
     "output_type": "execute_result"
    }
   ],
   "source": [
    "ice_cream_tuple = (\"Vanilla\", [\"Chocolate\", \"Vanilla\"], \"Strawberry\", \"Blueberry\")\n",
    "\n",
    "ice_cream_tuple"
   ]
  },
  {
   "cell_type": "code",
   "execution_count": 35,
   "metadata": {},
   "outputs": [
    {
     "ename": "AttributeError",
     "evalue": "'tuple' object has no attribute 'copy'",
     "output_type": "error",
     "traceback": [
      "\u001b[0;31m---------------------------------------------------------------------------\u001b[0m",
      "\u001b[0;31mAttributeError\u001b[0m                            Traceback (most recent call last)",
      "\u001b[0;32m<ipython-input-35-9d4d4929ac14>\u001b[0m in \u001b[0;36m<module>\u001b[0;34m\u001b[0m\n\u001b[0;32m----> 1\u001b[0;31m \u001b[0mice_cream_tuple_copy\u001b[0m \u001b[0;34m=\u001b[0m \u001b[0mice_cream_tuple\u001b[0m\u001b[0;34m.\u001b[0m\u001b[0mcopy\u001b[0m\u001b[0;34m(\u001b[0m\u001b[0;34m)\u001b[0m\u001b[0;34m\u001b[0m\u001b[0;34m\u001b[0m\u001b[0m\n\u001b[0m",
      "\u001b[0;31mAttributeError\u001b[0m: 'tuple' object has no attribute 'copy'"
     ]
    }
   ],
   "source": [
    "ice_cream_tuple_copy = ice_cream_tuple.copy()"
   ]
  },
  {
   "cell_type": "code",
   "execution_count": 39,
   "metadata": {},
   "outputs": [],
   "source": [
    "from copy import deepcopy\n",
    "\n",
    "ice_cream_tuple_copy = deepcopy(ice_cream_tuple)"
   ]
  },
  {
   "cell_type": "code",
   "execution_count": 40,
   "metadata": {},
   "outputs": [
    {
     "name": "stdout",
     "output_type": "stream",
     "text": [
      "Original:  ('Vanilla', ['Chocolate', 'Vanilla'], 'Strawberry', 'Blueberry')\n",
      "Modified:  ('Vanilla', ['Chocolate', 'Vanilla'], 'Strawberry', 'Blueberry')\n"
     ]
    }
   ],
   "source": [
    "print(\"Original: \", ice_cream_tuple)\n",
    "\n",
    "print(\"Modified: \", ice_cream_tuple_copy)"
   ]
  },
  {
   "cell_type": "code",
   "execution_count": 41,
   "metadata": {},
   "outputs": [],
   "source": [
    "ice_cream_tuple_copy[1][0] = \"Butterscotch\""
   ]
  },
  {
   "cell_type": "code",
   "execution_count": 42,
   "metadata": {},
   "outputs": [
    {
     "name": "stdout",
     "output_type": "stream",
     "text": [
      "Original:  ('Vanilla', ['Chocolate', 'Vanilla'], 'Strawberry', 'Blueberry')\n",
      "Modified:  ('Vanilla', ['Butterscotch', 'Vanilla'], 'Strawberry', 'Blueberry')\n"
     ]
    }
   ],
   "source": [
    "print(\"Original: \", ice_cream_tuple)\n",
    "\n",
    "print(\"Modified: \", ice_cream_tuple_copy)"
   ]
  },
  {
   "cell_type": "markdown",
   "metadata": {},
   "source": [
    "### Sets"
   ]
  },
  {
   "cell_type": "code",
   "execution_count": 43,
   "metadata": {},
   "outputs": [
    {
     "data": {
      "text/plain": [
       "{'blue', 'orange', 'pink', 'red', 'yellow'}"
      ]
     },
     "execution_count": 43,
     "metadata": {},
     "output_type": "execute_result"
    }
   ],
   "source": [
    "colors_set = {'blue', 'red', 'orange', 'yellow', 'pink'}\n",
    "\n",
    "colors_set"
   ]
  },
  {
   "cell_type": "code",
   "execution_count": 44,
   "metadata": {},
   "outputs": [
    {
     "name": "stdout",
     "output_type": "stream",
     "text": [
      "Original: {'orange', 'red', 'blue', 'yellow', 'pink'}\n",
      "Modified: {'orange', 'red', 'blue', 'yellow', 'pink'}\n"
     ]
    }
   ],
   "source": [
    "colors_set_copy = colors_set\n",
    "\n",
    "print(\"Original:\", colors_set)\n",
    "print(\"Modified:\", colors_set_copy)"
   ]
  },
  {
   "cell_type": "code",
   "execution_count": 45,
   "metadata": {},
   "outputs": [
    {
     "name": "stdout",
     "output_type": "stream",
     "text": [
      "Original: {'orange', 'blue', 'yellow', 'pink'}\n",
      "Modified: {'orange', 'blue', 'yellow', 'pink'}\n"
     ]
    }
   ],
   "source": [
    "colors_set_copy.remove('red')\n",
    "\n",
    "print(\"Original:\", colors_set)\n",
    "print(\"Modified:\", colors_set_copy)"
   ]
  },
  {
   "cell_type": "code",
   "execution_count": 46,
   "metadata": {},
   "outputs": [
    {
     "data": {
      "text/plain": [
       "{'blue', 'orange', 'pink', 'red', 'yellow'}"
      ]
     },
     "execution_count": 46,
     "metadata": {},
     "output_type": "execute_result"
    }
   ],
   "source": [
    "colors_set = {'blue', 'red', 'orange', 'yellow', 'pink'}\n",
    "\n",
    "colors_set"
   ]
  },
  {
   "cell_type": "code",
   "execution_count": 47,
   "metadata": {},
   "outputs": [
    {
     "name": "stdout",
     "output_type": "stream",
     "text": [
      "Original: {'orange', 'red', 'blue', 'yellow', 'pink'}\n",
      "Modified: {'orange', 'red', 'blue', 'yellow', 'pink'}\n"
     ]
    }
   ],
   "source": [
    "colors_set_copy = colors_set.copy()\n",
    "\n",
    "print(\"Original:\", colors_set)\n",
    "print(\"Modified:\", colors_set_copy)"
   ]
  },
  {
   "cell_type": "code",
   "execution_count": 48,
   "metadata": {},
   "outputs": [
    {
     "name": "stdout",
     "output_type": "stream",
     "text": [
      "Original: {'orange', 'red', 'blue', 'yellow', 'pink'}\n",
      "Modified: {'orange', 'magenta', 'red', 'blue', 'yellow', 'pink'}\n"
     ]
    }
   ],
   "source": [
    "colors_set_copy.add('magenta')\n",
    "\n",
    "print(\"Original:\", colors_set)\n",
    "print(\"Modified:\", colors_set_copy)"
   ]
  },
  {
   "cell_type": "markdown",
   "metadata": {},
   "source": [
    "Sets cannot contain other mutable types so deep copies need not be made"
   ]
  },
  {
   "cell_type": "code",
   "execution_count": 49,
   "metadata": {},
   "outputs": [
    {
     "ename": "TypeError",
     "evalue": "unhashable type: 'list'",
     "output_type": "error",
     "traceback": [
      "\u001b[0;31m---------------------------------------------------------------------------\u001b[0m",
      "\u001b[0;31mTypeError\u001b[0m                                 Traceback (most recent call last)",
      "\u001b[0;32m<ipython-input-49-6c7d4baed9c2>\u001b[0m in \u001b[0;36m<module>\u001b[0;34m\u001b[0m\n\u001b[0;32m----> 1\u001b[0;31m \u001b[0mcolors_set\u001b[0m \u001b[0;34m=\u001b[0m \u001b[0;34m{\u001b[0m\u001b[0;34m'blue'\u001b[0m\u001b[0;34m,\u001b[0m \u001b[0;34m'red'\u001b[0m\u001b[0;34m,\u001b[0m \u001b[0;34m[\u001b[0m\u001b[0;34m'orange'\u001b[0m\u001b[0;34m,\u001b[0m \u001b[0;34m'yellow'\u001b[0m\u001b[0;34m]\u001b[0m\u001b[0;34m,\u001b[0m \u001b[0;34m'pink'\u001b[0m\u001b[0;34m}\u001b[0m\u001b[0;34m\u001b[0m\u001b[0;34m\u001b[0m\u001b[0m\n\u001b[0m",
      "\u001b[0;31mTypeError\u001b[0m: unhashable type: 'list'"
     ]
    }
   ],
   "source": [
    "colors_set = {'blue', 'red', ['orange', 'yellow'], 'pink'}"
   ]
  },
  {
   "cell_type": "code",
   "execution_count": 50,
   "metadata": {},
   "outputs": [
    {
     "ename": "TypeError",
     "evalue": "unhashable type: 'dict'",
     "output_type": "error",
     "traceback": [
      "\u001b[0;31m---------------------------------------------------------------------------\u001b[0m",
      "\u001b[0;31mTypeError\u001b[0m                                 Traceback (most recent call last)",
      "\u001b[0;32m<ipython-input-50-c2dd0e4f86d1>\u001b[0m in \u001b[0;36m<module>\u001b[0;34m\u001b[0m\n\u001b[0;32m----> 1\u001b[0;31m \u001b[0mcolors_set\u001b[0m \u001b[0;34m=\u001b[0m \u001b[0;34m{\u001b[0m\u001b[0;34m'blue'\u001b[0m\u001b[0;34m,\u001b[0m \u001b[0;34m'red'\u001b[0m\u001b[0;34m,\u001b[0m \u001b[0;34m{\u001b[0m\u001b[0;36m1\u001b[0m\u001b[0;34m:\u001b[0m \u001b[0;34m'orange'\u001b[0m\u001b[0;34m,\u001b[0m \u001b[0;36m2\u001b[0m\u001b[0;34m:\u001b[0m \u001b[0;34m'yellow'\u001b[0m\u001b[0;34m}\u001b[0m\u001b[0;34m,\u001b[0m \u001b[0;34m'pink'\u001b[0m\u001b[0;34m}\u001b[0m\u001b[0;34m\u001b[0m\u001b[0;34m\u001b[0m\u001b[0m\n\u001b[0m",
      "\u001b[0;31mTypeError\u001b[0m: unhashable type: 'dict'"
     ]
    }
   ],
   "source": [
    "colors_set = {'blue', 'red', {1: 'orange', 2: 'yellow'}, 'pink'}"
   ]
  },
  {
   "cell_type": "code",
   "execution_count": 51,
   "metadata": {},
   "outputs": [
    {
     "data": {
      "text/plain": [
       "{('orange', 'yellow'), 'blue', 'pink', 'red'}"
      ]
     },
     "execution_count": 51,
     "metadata": {},
     "output_type": "execute_result"
    }
   ],
   "source": [
    "colors_set = {'blue', 'red', ('orange', 'yellow'), 'pink'}\n",
    "\n",
    "colors_set"
   ]
  },
  {
   "cell_type": "markdown",
   "metadata": {},
   "source": [
    "### Dictionaries"
   ]
  },
  {
   "cell_type": "code",
   "execution_count": 56,
   "metadata": {},
   "outputs": [
    {
     "data": {
      "text/plain": [
       "{1000: 'Python', 2000: ['Java', 'C#'], 3000: 'Javascript', 4000: 'Golang'}"
      ]
     },
     "execution_count": 56,
     "metadata": {},
     "output_type": "execute_result"
    }
   ],
   "source": [
    "project_language = {1000: \"Python\", \n",
    "                    2000: [\"Java\", \"C#\"], \n",
    "                    3000: \"Javascript\",\n",
    "                    4000: \"Golang\"}\n",
    "\n",
    "project_language"
   ]
  },
  {
   "cell_type": "code",
   "execution_count": 57,
   "metadata": {},
   "outputs": [
    {
     "name": "stdout",
     "output_type": "stream",
     "text": [
      "Original: {1000: 'Python', 2000: ['Java', 'C#'], 3000: 'Javascript', 4000: 'C#'}\n",
      "Modified: {1000: 'Python', 2000: ['Java', 'C#'], 3000: 'Javascript', 4000: 'C#'}\n"
     ]
    }
   ],
   "source": [
    "project_language_copy = project_language\n",
    "\n",
    "project_language_copy[4000] = \"C#\"\n",
    "\n",
    "print(\"Original:\", project_language)\n",
    "print(\"Modified:\", project_language_copy)"
   ]
  },
  {
   "cell_type": "code",
   "execution_count": 58,
   "metadata": {},
   "outputs": [
    {
     "data": {
      "text/plain": [
       "{1000: 'Python', 2000: ['Java', 'C#'], 3000: 'Javascript', 4000: 'Golang'}"
      ]
     },
     "execution_count": 58,
     "metadata": {},
     "output_type": "execute_result"
    }
   ],
   "source": [
    "project_language = {1000: \"Python\", \n",
    "                    2000: [\"Java\", \"C#\"], \n",
    "                    3000: \"Javascript\",\n",
    "                    4000: \"Golang\"}\n",
    "\n",
    "project_language"
   ]
  },
  {
   "cell_type": "code",
   "execution_count": 59,
   "metadata": {},
   "outputs": [
    {
     "name": "stdout",
     "output_type": "stream",
     "text": [
      "Original: {1000: 'Python', 2000: ['Java', 'C#'], 3000: 'Javascript', 4000: 'Golang'}\n",
      "Modified: {1000: 'Python', 2000: ['Java', 'C#'], 3000: 'Javascript', 4000: 'C#'}\n"
     ]
    }
   ],
   "source": [
    "project_language_copy = project_language.copy()\n",
    "\n",
    "project_language_copy[4000] = \"C#\"\n",
    "\n",
    "print(\"Original:\", project_language)\n",
    "print(\"Modified:\", project_language_copy)"
   ]
  },
  {
   "cell_type": "code",
   "execution_count": 60,
   "metadata": {},
   "outputs": [
    {
     "name": "stdout",
     "output_type": "stream",
     "text": [
      "Original: {1000: 'Python', 2000: ['Scala', 'C#'], 3000: 'Javascript', 4000: 'Golang'}\n",
      "Modified: {1000: 'Python', 2000: ['Scala', 'C#'], 3000: 'Javascript', 4000: 'C#'}\n"
     ]
    }
   ],
   "source": [
    "project_language_copy[2000][0] = \"Scala\"\n",
    "\n",
    "print(\"Original:\", project_language)\n",
    "print(\"Modified:\", project_language_copy)"
   ]
  },
  {
   "cell_type": "code",
   "execution_count": 61,
   "metadata": {},
   "outputs": [
    {
     "data": {
      "text/plain": [
       "{1000: 'Python', 2000: ['Java', 'C#'], 3000: 'Javascript', 4000: 'Golang'}"
      ]
     },
     "execution_count": 61,
     "metadata": {},
     "output_type": "execute_result"
    }
   ],
   "source": [
    "project_language = {1000: \"Python\", \n",
    "                    2000: [\"Java\", \"C#\"], \n",
    "                    3000: \"Javascript\",\n",
    "                    4000: \"Golang\"}\n",
    "\n",
    "project_language"
   ]
  },
  {
   "cell_type": "code",
   "execution_count": 63,
   "metadata": {},
   "outputs": [],
   "source": [
    "from copy import deepcopy"
   ]
  },
  {
   "cell_type": "code",
   "execution_count": 64,
   "metadata": {},
   "outputs": [
    {
     "name": "stdout",
     "output_type": "stream",
     "text": [
      "Original: {1000: 'Python', 2000: ['Java', 'C#'], 3000: 'Javascript', 4000: 'Golang'}\n",
      "Modified: {1000: 'Python', 2000: ['Java', 'C#'], 3000: 'Javascript', 4000: 'C#'}\n"
     ]
    }
   ],
   "source": [
    "project_language_copy = deepcopy(project_language)\n",
    "\n",
    "project_language_copy[4000] = \"C#\"\n",
    "\n",
    "print(\"Original:\", project_language)\n",
    "print(\"Modified:\", project_language_copy)"
   ]
  },
  {
   "cell_type": "code",
   "execution_count": 65,
   "metadata": {},
   "outputs": [
    {
     "name": "stdout",
     "output_type": "stream",
     "text": [
      "Original: {1000: 'Python', 2000: ['Java', 'C#'], 3000: 'Javascript', 4000: 'Golang'}\n",
      "Modified: {1000: 'Python', 2000: ['Scala', 'C#'], 3000: 'Javascript', 4000: 'C#'}\n"
     ]
    }
   ],
   "source": [
    "project_language_copy[2000][0] = \"Scala\"\n",
    "\n",
    "print(\"Original:\", project_language)\n",
    "print(\"Modified:\", project_language_copy)"
   ]
  },
  {
   "cell_type": "code",
   "execution_count": null,
   "metadata": {},
   "outputs": [],
   "source": []
  }
 ],
 "metadata": {
  "kernelspec": {
   "display_name": "Python 3",
   "language": "python",
   "name": "python3"
  },
  "language_info": {
   "codemirror_mode": {
    "name": "ipython",
    "version": 3
   },
   "file_extension": ".py",
   "mimetype": "text/x-python",
   "name": "python",
   "nbconvert_exporter": "python",
   "pygments_lexer": "ipython3",
   "version": "3.7.4"
  }
 },
 "nbformat": 4,
 "nbformat_minor": 2
}
